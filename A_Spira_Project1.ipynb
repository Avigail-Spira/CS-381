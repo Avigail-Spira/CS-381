{
  "nbformat": 4,
  "nbformat_minor": 0,
  "metadata": {
    "colab": {
      "name": "A_Spira_Project1",
      "provenance": [],
      "authorship_tag": "ABX9TyNciwlHcxipzT7DwQuKfyO+",
      "include_colab_link": true
    },
    "kernelspec": {
      "name": "python3",
      "display_name": "Python 3"
    },
    "language_info": {
      "name": "python"
    }
  },
  "cells": [
    {
      "cell_type": "markdown",
      "metadata": {
        "id": "view-in-github",
        "colab_type": "text"
      },
      "source": [
        "<a href=\"https://colab.research.google.com/github/Avigail-Spira/CS-381/blob/main/A_Spira_Project1.ipynb\" target=\"_parent\"><img src=\"https://colab.research.google.com/assets/colab-badge.svg\" alt=\"Open In Colab\"/></a>"
      ]
    },
    {
      "cell_type": "markdown",
      "source": [
        "#####This data is from Pima Indian Diabetes \n",
        "It has 768 record, 9 attributes, 268 positive diabetes results and 500 negative. All patients were female, over 21, and of Pima Indian heritage. "
      ],
      "metadata": {
        "id": "haIsy9_Cn-yD"
      }
    },
    {
      "cell_type": "code",
      "execution_count": null,
      "metadata": {
        "id": "oN6ynK9Egv6n"
      },
      "outputs": [],
      "source": [
        "# load libraries\n",
        "import pandas as pd\n",
        "import numpy as np\n",
        "import seaborn as sns\n",
        "import matplotlib.pyplot as plt\n",
        "\n",
        "#Data initialization\n",
        "df = pd.read_csv('https://raw.githubusercontent.com/Avigail-Spira/CS-381/main/diabetes.csv')\n",
        "df_copy = df.copy()\n"
      ]
    },
    {
      "cell_type": "markdown",
      "source": [
        "##Data Summary"
      ],
      "metadata": {
        "id": "c7e7HSqOndk5"
      }
    },
    {
      "cell_type": "code",
      "source": [
        "#print sample of the data\n",
        "df.head() "
      ],
      "metadata": {
        "colab": {
          "base_uri": "https://localhost:8080/",
          "height": 206
        },
        "id": "MMV7zb2mne9F",
        "outputId": "d077b246-ba76-4a09-dc44-09b654d11ed0"
      },
      "execution_count": null,
      "outputs": [
        {
          "output_type": "execute_result",
          "data": {
            "text/plain": [
              "   Pregnancies  Glucose  BloodPressure  SkinThickness  Insulin   BMI  \\\n",
              "0            6      148             72             35        0  33.6   \n",
              "1            1       85             66             29        0  26.6   \n",
              "2            8      183             64              0        0  23.3   \n",
              "3            1       89             66             23       94  28.1   \n",
              "4            0      137             40             35      168  43.1   \n",
              "\n",
              "   DiabetesPedigreeFunction  Age  Outcome  \n",
              "0                     0.627   50        1  \n",
              "1                     0.351   31        0  \n",
              "2                     0.672   32        1  \n",
              "3                     0.167   21        0  \n",
              "4                     2.288   33        1  "
            ],
            "text/html": [
              "\n",
              "  <div id=\"df-41f6c3be-6b42-4321-9ab1-42a83bb2f6e9\">\n",
              "    <div class=\"colab-df-container\">\n",
              "      <div>\n",
              "<style scoped>\n",
              "    .dataframe tbody tr th:only-of-type {\n",
              "        vertical-align: middle;\n",
              "    }\n",
              "\n",
              "    .dataframe tbody tr th {\n",
              "        vertical-align: top;\n",
              "    }\n",
              "\n",
              "    .dataframe thead th {\n",
              "        text-align: right;\n",
              "    }\n",
              "</style>\n",
              "<table border=\"1\" class=\"dataframe\">\n",
              "  <thead>\n",
              "    <tr style=\"text-align: right;\">\n",
              "      <th></th>\n",
              "      <th>Pregnancies</th>\n",
              "      <th>Glucose</th>\n",
              "      <th>BloodPressure</th>\n",
              "      <th>SkinThickness</th>\n",
              "      <th>Insulin</th>\n",
              "      <th>BMI</th>\n",
              "      <th>DiabetesPedigreeFunction</th>\n",
              "      <th>Age</th>\n",
              "      <th>Outcome</th>\n",
              "    </tr>\n",
              "  </thead>\n",
              "  <tbody>\n",
              "    <tr>\n",
              "      <th>0</th>\n",
              "      <td>6</td>\n",
              "      <td>148</td>\n",
              "      <td>72</td>\n",
              "      <td>35</td>\n",
              "      <td>0</td>\n",
              "      <td>33.6</td>\n",
              "      <td>0.627</td>\n",
              "      <td>50</td>\n",
              "      <td>1</td>\n",
              "    </tr>\n",
              "    <tr>\n",
              "      <th>1</th>\n",
              "      <td>1</td>\n",
              "      <td>85</td>\n",
              "      <td>66</td>\n",
              "      <td>29</td>\n",
              "      <td>0</td>\n",
              "      <td>26.6</td>\n",
              "      <td>0.351</td>\n",
              "      <td>31</td>\n",
              "      <td>0</td>\n",
              "    </tr>\n",
              "    <tr>\n",
              "      <th>2</th>\n",
              "      <td>8</td>\n",
              "      <td>183</td>\n",
              "      <td>64</td>\n",
              "      <td>0</td>\n",
              "      <td>0</td>\n",
              "      <td>23.3</td>\n",
              "      <td>0.672</td>\n",
              "      <td>32</td>\n",
              "      <td>1</td>\n",
              "    </tr>\n",
              "    <tr>\n",
              "      <th>3</th>\n",
              "      <td>1</td>\n",
              "      <td>89</td>\n",
              "      <td>66</td>\n",
              "      <td>23</td>\n",
              "      <td>94</td>\n",
              "      <td>28.1</td>\n",
              "      <td>0.167</td>\n",
              "      <td>21</td>\n",
              "      <td>0</td>\n",
              "    </tr>\n",
              "    <tr>\n",
              "      <th>4</th>\n",
              "      <td>0</td>\n",
              "      <td>137</td>\n",
              "      <td>40</td>\n",
              "      <td>35</td>\n",
              "      <td>168</td>\n",
              "      <td>43.1</td>\n",
              "      <td>2.288</td>\n",
              "      <td>33</td>\n",
              "      <td>1</td>\n",
              "    </tr>\n",
              "  </tbody>\n",
              "</table>\n",
              "</div>\n",
              "      <button class=\"colab-df-convert\" onclick=\"convertToInteractive('df-41f6c3be-6b42-4321-9ab1-42a83bb2f6e9')\"\n",
              "              title=\"Convert this dataframe to an interactive table.\"\n",
              "              style=\"display:none;\">\n",
              "        \n",
              "  <svg xmlns=\"http://www.w3.org/2000/svg\" height=\"24px\"viewBox=\"0 0 24 24\"\n",
              "       width=\"24px\">\n",
              "    <path d=\"M0 0h24v24H0V0z\" fill=\"none\"/>\n",
              "    <path d=\"M18.56 5.44l.94 2.06.94-2.06 2.06-.94-2.06-.94-.94-2.06-.94 2.06-2.06.94zm-11 1L8.5 8.5l.94-2.06 2.06-.94-2.06-.94L8.5 2.5l-.94 2.06-2.06.94zm10 10l.94 2.06.94-2.06 2.06-.94-2.06-.94-.94-2.06-.94 2.06-2.06.94z\"/><path d=\"M17.41 7.96l-1.37-1.37c-.4-.4-.92-.59-1.43-.59-.52 0-1.04.2-1.43.59L10.3 9.45l-7.72 7.72c-.78.78-.78 2.05 0 2.83L4 21.41c.39.39.9.59 1.41.59.51 0 1.02-.2 1.41-.59l7.78-7.78 2.81-2.81c.8-.78.8-2.07 0-2.86zM5.41 20L4 18.59l7.72-7.72 1.47 1.35L5.41 20z\"/>\n",
              "  </svg>\n",
              "      </button>\n",
              "      \n",
              "  <style>\n",
              "    .colab-df-container {\n",
              "      display:flex;\n",
              "      flex-wrap:wrap;\n",
              "      gap: 12px;\n",
              "    }\n",
              "\n",
              "    .colab-df-convert {\n",
              "      background-color: #E8F0FE;\n",
              "      border: none;\n",
              "      border-radius: 50%;\n",
              "      cursor: pointer;\n",
              "      display: none;\n",
              "      fill: #1967D2;\n",
              "      height: 32px;\n",
              "      padding: 0 0 0 0;\n",
              "      width: 32px;\n",
              "    }\n",
              "\n",
              "    .colab-df-convert:hover {\n",
              "      background-color: #E2EBFA;\n",
              "      box-shadow: 0px 1px 2px rgba(60, 64, 67, 0.3), 0px 1px 3px 1px rgba(60, 64, 67, 0.15);\n",
              "      fill: #174EA6;\n",
              "    }\n",
              "\n",
              "    [theme=dark] .colab-df-convert {\n",
              "      background-color: #3B4455;\n",
              "      fill: #D2E3FC;\n",
              "    }\n",
              "\n",
              "    [theme=dark] .colab-df-convert:hover {\n",
              "      background-color: #434B5C;\n",
              "      box-shadow: 0px 1px 3px 1px rgba(0, 0, 0, 0.15);\n",
              "      filter: drop-shadow(0px 1px 2px rgba(0, 0, 0, 0.3));\n",
              "      fill: #FFFFFF;\n",
              "    }\n",
              "  </style>\n",
              "\n",
              "      <script>\n",
              "        const buttonEl =\n",
              "          document.querySelector('#df-41f6c3be-6b42-4321-9ab1-42a83bb2f6e9 button.colab-df-convert');\n",
              "        buttonEl.style.display =\n",
              "          google.colab.kernel.accessAllowed ? 'block' : 'none';\n",
              "\n",
              "        async function convertToInteractive(key) {\n",
              "          const element = document.querySelector('#df-41f6c3be-6b42-4321-9ab1-42a83bb2f6e9');\n",
              "          const dataTable =\n",
              "            await google.colab.kernel.invokeFunction('convertToInteractive',\n",
              "                                                     [key], {});\n",
              "          if (!dataTable) return;\n",
              "\n",
              "          const docLinkHtml = 'Like what you see? Visit the ' +\n",
              "            '<a target=\"_blank\" href=https://colab.research.google.com/notebooks/data_table.ipynb>data table notebook</a>'\n",
              "            + ' to learn more about interactive tables.';\n",
              "          element.innerHTML = '';\n",
              "          dataTable['output_type'] = 'display_data';\n",
              "          await google.colab.output.renderOutput(dataTable, element);\n",
              "          const docLink = document.createElement('div');\n",
              "          docLink.innerHTML = docLinkHtml;\n",
              "          element.appendChild(docLink);\n",
              "        }\n",
              "      </script>\n",
              "    </div>\n",
              "  </div>\n",
              "  "
            ]
          },
          "metadata": {},
          "execution_count": 2
        }
      ]
    },
    {
      "cell_type": "markdown",
      "source": [
        "**Attributes**:\n",
        "1. Pregnancies - number of times pregnant\n",
        "2. Glucose - plasma glucose concentration at 2 hours in an oral glucose tolerance test. Glucose is the main sugar found in the body and it is the body's main source of energy. Glucose is a monosaccharide, one sugar. When we eat, the pancreas produces insulin to deal with glucose. One way diabetes happens is when the pancreas does not create insulin properly. Normal glucose levels are anything below 140 mg/dL. More information on glucose [here]('https://www.healthline.com/health/glucose#how-glucose-works').\n",
        "3. Blood Pressure - diastolic blood pressure is the pressure the blood exerts on artery walls in between heart beats. Normal diastolic blood pressure is anything less than 80 mm Hg. High blood pressure would be between 80-89 mmHg. Hypertension is above 90 and Hypertensive crisis is above 120. More information on blood pressure [here]('https://www.heart.org/en/health-topics/high-blood-pressure/understanding-blood-pressure-readings').\n",
        "4. Skin Thickness - triceps skin fold thickness (mm). \"The triceps skinfold is necessary for calculating the upper arm muscle circumference. Its thickness gives information about the fat reserves of the body, whereas the calculated muscle mass gives information about the protein reserves.\" From [here]('https://nutritionalassessment.mumc.nl/en/skinfold-measurements'). This is the most reliable of all skinfold measurements and fairly reliable. It is used to assess body fat. Thick skinnes has been linked to a type of diabetes and insulin levels. \n",
        "5. Insulin - 2 Hour serum insulin. Insulin is a hormone found in our bodies which regulates the amount of glucose in our bloodstream. Insulin is produced by the pancreas. When someone has diabetes either their body does not make insulin or it makes insulin but does not produce enough. From [here]('https://www.endocrineweb.com/conditions/type-1-diabetes/what-insulin')\n",
        "6. BMI - body mass index (wright in kg/ (height in mm)^2). It is a measure that uses your height and weight to work out if your weight is healthy. For adults, an ideal BMI is in the 18.5 to 24.9 range. See [here]('https://www.nhs.uk/common-health-questions/lifestyle/what-is-the-body-mass-index-bmi/#:~:text=The%20body%20mass%20index%20(BMI)%20is%20a%20measure%20that%20uses,of%2025%20means%2025kg%2Fm2.')\n",
        "7. Diabetes Pedigree Function - indicates the function which scores likelihood of diabetes based on family history. \n",
        "8. Age - in years\n",
        "9. Outcome - 0 or 1. 1 means the person has diabetes. "
      ],
      "metadata": {
        "id": "ZsnKi6TCo-sL"
      }
    },
    {
      "cell_type": "code",
      "source": [
        "df.info()\n"
      ],
      "metadata": {
        "colab": {
          "base_uri": "https://localhost:8080/"
        },
        "id": "Te8V3XonnvWj",
        "outputId": "318bfad3-4e4c-48c7-80e5-d6362746bf31"
      },
      "execution_count": null,
      "outputs": [
        {
          "output_type": "stream",
          "name": "stdout",
          "text": [
            "<class 'pandas.core.frame.DataFrame'>\n",
            "RangeIndex: 768 entries, 0 to 767\n",
            "Data columns (total 9 columns):\n",
            " #   Column                    Non-Null Count  Dtype  \n",
            "---  ------                    --------------  -----  \n",
            " 0   Pregnancies               768 non-null    int64  \n",
            " 1   Glucose                   768 non-null    int64  \n",
            " 2   BloodPressure             768 non-null    int64  \n",
            " 3   SkinThickness             768 non-null    int64  \n",
            " 4   Insulin                   768 non-null    int64  \n",
            " 5   BMI                       768 non-null    float64\n",
            " 6   DiabetesPedigreeFunction  768 non-null    float64\n",
            " 7   Age                       768 non-null    int64  \n",
            " 8   Outcome                   768 non-null    int64  \n",
            "dtypes: float64(2), int64(7)\n",
            "memory usage: 54.1 KB\n"
          ]
        }
      ]
    },
    {
      "cell_type": "markdown",
      "source": [
        "##EDA"
      ],
      "metadata": {
        "id": "wUAYYiqApDYY"
      }
    },
    {
      "cell_type": "code",
      "source": [
        "#check how many values are null\n",
        "df.isnull().sum()"
      ],
      "metadata": {
        "colab": {
          "base_uri": "https://localhost:8080/"
        },
        "id": "y6FZAe0ipSOG",
        "outputId": "721667cd-34bf-466d-e3e9-4f852b4274ad"
      },
      "execution_count": null,
      "outputs": [
        {
          "output_type": "execute_result",
          "data": {
            "text/plain": [
              "Pregnancies                 0\n",
              "Glucose                     0\n",
              "BloodPressure               0\n",
              "SkinThickness               0\n",
              "Insulin                     0\n",
              "BMI                         0\n",
              "DiabetesPedigreeFunction    0\n",
              "Age                         0\n",
              "Outcome                     0\n",
              "dtype: int64"
            ]
          },
          "metadata": {},
          "execution_count": 4
        }
      ]
    },
    {
      "cell_type": "markdown",
      "source": [
        "No null values"
      ],
      "metadata": {
        "id": "YDQ-DrVOp932"
      }
    },
    {
      "cell_type": "code",
      "source": [
        "# show dataset summary statistics\n",
        "df.describe()"
      ],
      "metadata": {
        "colab": {
          "base_uri": "https://localhost:8080/",
          "height": 300
        },
        "id": "z_0WY6Rdp_53",
        "outputId": "d3171f91-8aee-4546-e03d-0618fc9a49a3"
      },
      "execution_count": null,
      "outputs": [
        {
          "output_type": "execute_result",
          "data": {
            "text/plain": [
              "       Pregnancies     Glucose  BloodPressure  SkinThickness     Insulin  \\\n",
              "count   768.000000  768.000000     768.000000     768.000000  768.000000   \n",
              "mean      3.845052  120.894531      69.105469      20.536458   79.799479   \n",
              "std       3.369578   31.972618      19.355807      15.952218  115.244002   \n",
              "min       0.000000    0.000000       0.000000       0.000000    0.000000   \n",
              "25%       1.000000   99.000000      62.000000       0.000000    0.000000   \n",
              "50%       3.000000  117.000000      72.000000      23.000000   30.500000   \n",
              "75%       6.000000  140.250000      80.000000      32.000000  127.250000   \n",
              "max      17.000000  199.000000     122.000000      99.000000  846.000000   \n",
              "\n",
              "              BMI  DiabetesPedigreeFunction         Age     Outcome  \n",
              "count  768.000000                768.000000  768.000000  768.000000  \n",
              "mean    31.992578                  0.471876   33.240885    0.348958  \n",
              "std      7.884160                  0.331329   11.760232    0.476951  \n",
              "min      0.000000                  0.078000   21.000000    0.000000  \n",
              "25%     27.300000                  0.243750   24.000000    0.000000  \n",
              "50%     32.000000                  0.372500   29.000000    0.000000  \n",
              "75%     36.600000                  0.626250   41.000000    1.000000  \n",
              "max     67.100000                  2.420000   81.000000    1.000000  "
            ],
            "text/html": [
              "\n",
              "  <div id=\"df-09046276-4ce4-4f42-b363-32a637d60008\">\n",
              "    <div class=\"colab-df-container\">\n",
              "      <div>\n",
              "<style scoped>\n",
              "    .dataframe tbody tr th:only-of-type {\n",
              "        vertical-align: middle;\n",
              "    }\n",
              "\n",
              "    .dataframe tbody tr th {\n",
              "        vertical-align: top;\n",
              "    }\n",
              "\n",
              "    .dataframe thead th {\n",
              "        text-align: right;\n",
              "    }\n",
              "</style>\n",
              "<table border=\"1\" class=\"dataframe\">\n",
              "  <thead>\n",
              "    <tr style=\"text-align: right;\">\n",
              "      <th></th>\n",
              "      <th>Pregnancies</th>\n",
              "      <th>Glucose</th>\n",
              "      <th>BloodPressure</th>\n",
              "      <th>SkinThickness</th>\n",
              "      <th>Insulin</th>\n",
              "      <th>BMI</th>\n",
              "      <th>DiabetesPedigreeFunction</th>\n",
              "      <th>Age</th>\n",
              "      <th>Outcome</th>\n",
              "    </tr>\n",
              "  </thead>\n",
              "  <tbody>\n",
              "    <tr>\n",
              "      <th>count</th>\n",
              "      <td>768.000000</td>\n",
              "      <td>768.000000</td>\n",
              "      <td>768.000000</td>\n",
              "      <td>768.000000</td>\n",
              "      <td>768.000000</td>\n",
              "      <td>768.000000</td>\n",
              "      <td>768.000000</td>\n",
              "      <td>768.000000</td>\n",
              "      <td>768.000000</td>\n",
              "    </tr>\n",
              "    <tr>\n",
              "      <th>mean</th>\n",
              "      <td>3.845052</td>\n",
              "      <td>120.894531</td>\n",
              "      <td>69.105469</td>\n",
              "      <td>20.536458</td>\n",
              "      <td>79.799479</td>\n",
              "      <td>31.992578</td>\n",
              "      <td>0.471876</td>\n",
              "      <td>33.240885</td>\n",
              "      <td>0.348958</td>\n",
              "    </tr>\n",
              "    <tr>\n",
              "      <th>std</th>\n",
              "      <td>3.369578</td>\n",
              "      <td>31.972618</td>\n",
              "      <td>19.355807</td>\n",
              "      <td>15.952218</td>\n",
              "      <td>115.244002</td>\n",
              "      <td>7.884160</td>\n",
              "      <td>0.331329</td>\n",
              "      <td>11.760232</td>\n",
              "      <td>0.476951</td>\n",
              "    </tr>\n",
              "    <tr>\n",
              "      <th>min</th>\n",
              "      <td>0.000000</td>\n",
              "      <td>0.000000</td>\n",
              "      <td>0.000000</td>\n",
              "      <td>0.000000</td>\n",
              "      <td>0.000000</td>\n",
              "      <td>0.000000</td>\n",
              "      <td>0.078000</td>\n",
              "      <td>21.000000</td>\n",
              "      <td>0.000000</td>\n",
              "    </tr>\n",
              "    <tr>\n",
              "      <th>25%</th>\n",
              "      <td>1.000000</td>\n",
              "      <td>99.000000</td>\n",
              "      <td>62.000000</td>\n",
              "      <td>0.000000</td>\n",
              "      <td>0.000000</td>\n",
              "      <td>27.300000</td>\n",
              "      <td>0.243750</td>\n",
              "      <td>24.000000</td>\n",
              "      <td>0.000000</td>\n",
              "    </tr>\n",
              "    <tr>\n",
              "      <th>50%</th>\n",
              "      <td>3.000000</td>\n",
              "      <td>117.000000</td>\n",
              "      <td>72.000000</td>\n",
              "      <td>23.000000</td>\n",
              "      <td>30.500000</td>\n",
              "      <td>32.000000</td>\n",
              "      <td>0.372500</td>\n",
              "      <td>29.000000</td>\n",
              "      <td>0.000000</td>\n",
              "    </tr>\n",
              "    <tr>\n",
              "      <th>75%</th>\n",
              "      <td>6.000000</td>\n",
              "      <td>140.250000</td>\n",
              "      <td>80.000000</td>\n",
              "      <td>32.000000</td>\n",
              "      <td>127.250000</td>\n",
              "      <td>36.600000</td>\n",
              "      <td>0.626250</td>\n",
              "      <td>41.000000</td>\n",
              "      <td>1.000000</td>\n",
              "    </tr>\n",
              "    <tr>\n",
              "      <th>max</th>\n",
              "      <td>17.000000</td>\n",
              "      <td>199.000000</td>\n",
              "      <td>122.000000</td>\n",
              "      <td>99.000000</td>\n",
              "      <td>846.000000</td>\n",
              "      <td>67.100000</td>\n",
              "      <td>2.420000</td>\n",
              "      <td>81.000000</td>\n",
              "      <td>1.000000</td>\n",
              "    </tr>\n",
              "  </tbody>\n",
              "</table>\n",
              "</div>\n",
              "      <button class=\"colab-df-convert\" onclick=\"convertToInteractive('df-09046276-4ce4-4f42-b363-32a637d60008')\"\n",
              "              title=\"Convert this dataframe to an interactive table.\"\n",
              "              style=\"display:none;\">\n",
              "        \n",
              "  <svg xmlns=\"http://www.w3.org/2000/svg\" height=\"24px\"viewBox=\"0 0 24 24\"\n",
              "       width=\"24px\">\n",
              "    <path d=\"M0 0h24v24H0V0z\" fill=\"none\"/>\n",
              "    <path d=\"M18.56 5.44l.94 2.06.94-2.06 2.06-.94-2.06-.94-.94-2.06-.94 2.06-2.06.94zm-11 1L8.5 8.5l.94-2.06 2.06-.94-2.06-.94L8.5 2.5l-.94 2.06-2.06.94zm10 10l.94 2.06.94-2.06 2.06-.94-2.06-.94-.94-2.06-.94 2.06-2.06.94z\"/><path d=\"M17.41 7.96l-1.37-1.37c-.4-.4-.92-.59-1.43-.59-.52 0-1.04.2-1.43.59L10.3 9.45l-7.72 7.72c-.78.78-.78 2.05 0 2.83L4 21.41c.39.39.9.59 1.41.59.51 0 1.02-.2 1.41-.59l7.78-7.78 2.81-2.81c.8-.78.8-2.07 0-2.86zM5.41 20L4 18.59l7.72-7.72 1.47 1.35L5.41 20z\"/>\n",
              "  </svg>\n",
              "      </button>\n",
              "      \n",
              "  <style>\n",
              "    .colab-df-container {\n",
              "      display:flex;\n",
              "      flex-wrap:wrap;\n",
              "      gap: 12px;\n",
              "    }\n",
              "\n",
              "    .colab-df-convert {\n",
              "      background-color: #E8F0FE;\n",
              "      border: none;\n",
              "      border-radius: 50%;\n",
              "      cursor: pointer;\n",
              "      display: none;\n",
              "      fill: #1967D2;\n",
              "      height: 32px;\n",
              "      padding: 0 0 0 0;\n",
              "      width: 32px;\n",
              "    }\n",
              "\n",
              "    .colab-df-convert:hover {\n",
              "      background-color: #E2EBFA;\n",
              "      box-shadow: 0px 1px 2px rgba(60, 64, 67, 0.3), 0px 1px 3px 1px rgba(60, 64, 67, 0.15);\n",
              "      fill: #174EA6;\n",
              "    }\n",
              "\n",
              "    [theme=dark] .colab-df-convert {\n",
              "      background-color: #3B4455;\n",
              "      fill: #D2E3FC;\n",
              "    }\n",
              "\n",
              "    [theme=dark] .colab-df-convert:hover {\n",
              "      background-color: #434B5C;\n",
              "      box-shadow: 0px 1px 3px 1px rgba(0, 0, 0, 0.15);\n",
              "      filter: drop-shadow(0px 1px 2px rgba(0, 0, 0, 0.3));\n",
              "      fill: #FFFFFF;\n",
              "    }\n",
              "  </style>\n",
              "\n",
              "      <script>\n",
              "        const buttonEl =\n",
              "          document.querySelector('#df-09046276-4ce4-4f42-b363-32a637d60008 button.colab-df-convert');\n",
              "        buttonEl.style.display =\n",
              "          google.colab.kernel.accessAllowed ? 'block' : 'none';\n",
              "\n",
              "        async function convertToInteractive(key) {\n",
              "          const element = document.querySelector('#df-09046276-4ce4-4f42-b363-32a637d60008');\n",
              "          const dataTable =\n",
              "            await google.colab.kernel.invokeFunction('convertToInteractive',\n",
              "                                                     [key], {});\n",
              "          if (!dataTable) return;\n",
              "\n",
              "          const docLinkHtml = 'Like what you see? Visit the ' +\n",
              "            '<a target=\"_blank\" href=https://colab.research.google.com/notebooks/data_table.ipynb>data table notebook</a>'\n",
              "            + ' to learn more about interactive tables.';\n",
              "          element.innerHTML = '';\n",
              "          dataTable['output_type'] = 'display_data';\n",
              "          await google.colab.output.renderOutput(dataTable, element);\n",
              "          const docLink = document.createElement('div');\n",
              "          docLink.innerHTML = docLinkHtml;\n",
              "          element.appendChild(docLink);\n",
              "        }\n",
              "      </script>\n",
              "    </div>\n",
              "  </div>\n",
              "  "
            ]
          },
          "metadata": {},
          "execution_count": 5
        }
      ]
    },
    {
      "cell_type": "markdown",
      "source": [
        " - The mean of glucose is 120 which is above normal/average glucose levels which is 90-110 but this makes sense as many of the women in the dataset have diabetes. A glucose level of 0 does not seem to make sense but the minimum value is 0. \n",
        " - The minimum values of 0 in glucose, blood pressure, skin thickness, insulin, and BMI are probably null values because it does not make sense for a person to have such low levels. \n",
        " - The ages of the patients span from 21 until 81 (a 60 year range). The mean age is 33.\n",
        " - About 35% of the women have diabetes. "
      ],
      "metadata": {
        "id": "zhqoQ8LpqSFL"
      }
    },
    {
      "cell_type": "code",
      "source": [
        "corr = df.corr()\n",
        "print(corr)"
      ],
      "metadata": {
        "colab": {
          "base_uri": "https://localhost:8080/"
        },
        "id": "M55zkhdFn_9h",
        "outputId": "da414e78-2943-4809-a62e-7d0be89acc9b"
      },
      "execution_count": null,
      "outputs": [
        {
          "output_type": "stream",
          "name": "stdout",
          "text": [
            "                          Pregnancies   Glucose  BloodPressure  SkinThickness  \\\n",
            "Pregnancies                  1.000000  0.129459       0.141282      -0.081672   \n",
            "Glucose                      0.129459  1.000000       0.152590       0.057328   \n",
            "BloodPressure                0.141282  0.152590       1.000000       0.207371   \n",
            "SkinThickness               -0.081672  0.057328       0.207371       1.000000   \n",
            "Insulin                     -0.073535  0.331357       0.088933       0.436783   \n",
            "BMI                          0.017683  0.221071       0.281805       0.392573   \n",
            "DiabetesPedigreeFunction    -0.033523  0.137337       0.041265       0.183928   \n",
            "Age                          0.544341  0.263514       0.239528      -0.113970   \n",
            "Outcome                      0.221898  0.466581       0.065068       0.074752   \n",
            "\n",
            "                           Insulin       BMI  DiabetesPedigreeFunction  \\\n",
            "Pregnancies              -0.073535  0.017683                 -0.033523   \n",
            "Glucose                   0.331357  0.221071                  0.137337   \n",
            "BloodPressure             0.088933  0.281805                  0.041265   \n",
            "SkinThickness             0.436783  0.392573                  0.183928   \n",
            "Insulin                   1.000000  0.197859                  0.185071   \n",
            "BMI                       0.197859  1.000000                  0.140647   \n",
            "DiabetesPedigreeFunction  0.185071  0.140647                  1.000000   \n",
            "Age                      -0.042163  0.036242                  0.033561   \n",
            "Outcome                   0.130548  0.292695                  0.173844   \n",
            "\n",
            "                               Age   Outcome  \n",
            "Pregnancies               0.544341  0.221898  \n",
            "Glucose                   0.263514  0.466581  \n",
            "BloodPressure             0.239528  0.065068  \n",
            "SkinThickness            -0.113970  0.074752  \n",
            "Insulin                  -0.042163  0.130548  \n",
            "BMI                       0.036242  0.292695  \n",
            "DiabetesPedigreeFunction  0.033561  0.173844  \n",
            "Age                       1.000000  0.238356  \n",
            "Outcome                   0.238356  1.000000  \n"
          ]
        }
      ]
    },
    {
      "cell_type": "code",
      "source": [
        "# view correlation matrix for the variables in the dataset\n",
        "corrMatrix = df.corr()\n",
        "\n",
        "# show visual representation\n",
        "plt.rcParams.update({'font.size': 10,'figure.figsize':(8,8)})\n",
        "f3 = sns.heatmap(corrMatrix, annot=True)\n",
        "plt.show() "
      ],
      "metadata": {
        "colab": {
          "base_uri": "https://localhost:8080/",
          "height": 607
        },
        "id": "fLxVXukVraYM",
        "outputId": "c9b45305-dac6-465e-97aa-069b39d04bec"
      },
      "execution_count": null,
      "outputs": [
        {
          "output_type": "display_data",
          "data": {
            "text/plain": [
              "<Figure size 576x576 with 2 Axes>"
            ],
            "image/png": "[encoded data removed]"
          },
          "metadata": {
            "needs_background": "light"
          }
        }
      ]
    },
    {
      "cell_type": "markdown",
      "source": [
        "There seems to be a high correlation between age and pregnancies which makes sense. Glucose is also highly correlated with Outcome with also makes sense because glucose levels has a lot to do with if someone has diabetes. "
      ],
      "metadata": {
        "id": "hGqpYsrOr65x"
      }
    },
    {
      "cell_type": "code",
      "source": [
        "#histograms\n",
        "df.hist(bins=50, figsize=(15,10))\n",
        "plt.show()"
      ],
      "metadata": {
        "colab": {
          "base_uri": "https://localhost:8080/",
          "height": 607
        },
        "id": "GRXHMqYCsOrT",
        "outputId": "5d4a13ec-1354-4955-c13f-3942349ff6d4"
      },
      "execution_count": null,
      "outputs": [
        {
          "output_type": "display_data",
          "data": {
            "text/plain": [
              "<Figure size 1080x720 with 9 Axes>"
            ],
            "image/png": "[encoded data removed]"
          },
          "metadata": {
            "needs_background": "light"
          }
        }
      ]
    },
    {
      "cell_type": "markdown",
      "source": [
        "- Most people have fewer children with single child being the most common. \n",
        "- The zero values should be replaced by the mean of people who have diabetes or who don't have diabetes. \n",
        "-Most women under study are younger ages. "
      ],
      "metadata": {
        "id": "pFKxTgs8sXp5"
      }
    },
    {
      "cell_type": "markdown",
      "source": [
        "Highlight contrasts"
      ],
      "metadata": {
        "id": "JPdJcdrN9VeT"
      }
    },
    {
      "cell_type": "code",
      "source": [
        "print(df['DiabetesPedigreeFunction'].max())\n",
        "df['DiabetesPedigreeFunction'].max() - df['DiabetesPedigreeFunction'].min()\n"
      ],
      "metadata": {
        "colab": {
          "base_uri": "https://localhost:8080/"
        },
        "id": "Ethvofbi9VJ9",
        "outputId": "362f773c-41e0-40f0-d4d4-aa9a1821d8e9"
      },
      "execution_count": null,
      "outputs": [
        {
          "output_type": "stream",
          "name": "stdout",
          "text": [
            "2.42\n"
          ]
        },
        {
          "output_type": "execute_result",
          "data": {
            "text/plain": [
              "2.342"
            ]
          },
          "metadata": {},
          "execution_count": 2
        }
      ]
    },
    {
      "cell_type": "code",
      "source": [
        "#Make subset of diabetic and non diabetic patients\n",
        "diabetic = df[df['Outcome'] ==1]\n",
        "non_diabetic = df[df['Outcome'] == 0]"
      ],
      "metadata": {
        "id": "7kcKcXxduM1N"
      },
      "execution_count": null,
      "outputs": []
    },
    {
      "cell_type": "code",
      "source": [
        " import math\n",
        " #Replace the zero values by the mean of that attribute of someone with diabetes vs. without diabetes\n",
        " #Glucose\n",
        " df['Glucose'] = np.where((df['Glucose'] == 0) & (df['Outcome'] == 1), math.trunc(diabetic['Glucose'].mean()), df['Glucose'])\n",
        " df['Glucose'] = np.where((df['Glucose'] == 0) & (df['Outcome'] == 0), math.trunc(non_diabetic['Glucose'].mean()), df['Glucose'])\n",
        "\n",
        "#Blood Pressure\n",
        "df['BloodPressure'] = np.where((df['BloodPressure'] == 0) & (df['Outcome'] == 1), math.trunc(diabetic['BloodPressure'].mean()), df['BloodPressure'])\n",
        "df['BloodPressure'] = np.where((df['BloodPressure'] == 0) & (df['Outcome'] == 0), math.trunc(non_diabetic['BloodPressure'].mean()), df['BloodPressure'])\n",
        "\n",
        "#Skin Thickness\n",
        "df['SkinThickness'] = np.where((df['SkinThickness'] == 0) & (df['Outcome'] == 1), math.trunc(diabetic['SkinThickness'].mean()), df['SkinThickness'])\n",
        "df['SkinThickness'] = np.where((df['SkinThickness'] == 0) & (df['Outcome'] == 0), math.trunc(non_diabetic['SkinThickness'].mean()), df['SkinThickness'])\n",
        "\n",
        "#Insulin\n",
        "df['Insulin'] = np.where((df['Insulin'] == 0) & (df['Outcome'] == 1), math.trunc(diabetic['Insulin'].mean()), df['Insulin'])\n",
        "df['Insulin'] = np.where((df['Insulin'] == 0) & (df['Outcome'] == 0), math.trunc(non_diabetic['Insulin'].mean()), df['Insulin'])\n",
        "\n",
        "\n",
        "#BMI\n",
        "df['BMI'] = np.where((df['BMI'] == 0) & (df['Outcome'] == 1), math.trunc(diabetic['BMI'].mean()), df['BMI'])\n",
        "df['BMI'] = np.where((df['BMI'] == 0) & (df['Outcome'] == 0), math.trunc(non_diabetic['BMI'].mean()), df['BMI'])"
      ],
      "metadata": {
        "id": "NOjqsIAPvDIF"
      },
      "execution_count": null,
      "outputs": []
    },
    {
      "cell_type": "code",
      "source": [
        "df.hist(bins=50, figsize=(15,10))\n",
        "plt.show()"
      ],
      "metadata": {
        "colab": {
          "base_uri": "https://localhost:8080/",
          "height": 607
        },
        "id": "uQSDUgdwwD_7",
        "outputId": "251ba076-2e6b-427e-96ee-1acbad08b311"
      },
      "execution_count": null,
      "outputs": [
        {
          "output_type": "display_data",
          "data": {
            "text/plain": [
              "<Figure size 1080x720 with 9 Axes>"
            ],
            "image/png": "[encoded data removed]"
          },
          "metadata": {
            "needs_background": "light"
          }
        }
      ]
    },
    {
      "cell_type": "markdown",
      "source": [
        "Histograms are fixed now and don't have all the zero values."
      ],
      "metadata": {
        "id": "DvrZHV4_1PBf"
      }
    },
    {
      "cell_type": "code",
      "source": [
        "plt.figure(figsize=(20,20))\n",
        "\n",
        "#use an index to identify the spot of the subplot\n",
        "j=1\n",
        "columns=df.columns.tolist()\n",
        "for k in columns:   \n",
        "    plt.subplot(5,3,j) \n",
        "    sns.boxplot(x=k,data=df)\n",
        "    j=j+1 #add 1 to go to the next subplot space\n",
        "\n",
        "#show results\n",
        "plt.show()"
      ],
      "metadata": {
        "colab": {
          "base_uri": "https://localhost:8080/",
          "height": 699
        },
        "id": "iC42KEwf1Rne",
        "outputId": "2658f18f-c3b2-45f3-819a-bc9c6afd878d"
      },
      "execution_count": null,
      "outputs": [
        {
          "output_type": "display_data",
          "data": {
            "text/plain": [
              "<Figure size 1440x1440 with 9 Axes>"
            ],
            "image/png": "[encoded data removed]"
          },
          "metadata": {
            "needs_background": "light"
          }
        }
      ]
    },
    {
      "cell_type": "markdown",
      "source": [
        "The boxplots are not surprising from the data. There are a lot of outliers which is also not surprising because these attributes can vary a lot from patient to patient especially since there are many diabetic patients in this data set. "
      ],
      "metadata": {
        "id": "hiMafGgm2uwR"
      }
    },
    {
      "cell_type": "markdown",
      "source": [
        "Disect Factors"
      ],
      "metadata": {
        "id": "BmYQlXyi9vMk"
      }
    },
    {
      "cell_type": "code",
      "source": [
        "plt.scatter(df['SkinThickness'], df['Insulin'])"
      ],
      "metadata": {
        "colab": {
          "base_uri": "https://localhost:8080/",
          "height": 501
        },
        "id": "vnxnrcMR3HSE",
        "outputId": "dd058f03-3922-40b2-b824-f624b7f6519d"
      },
      "execution_count": null,
      "outputs": [
        {
          "output_type": "execute_result",
          "data": {
            "text/plain": [
              "<matplotlib.collections.PathCollection at 0x7f81a4e8ba50>"
            ]
          },
          "metadata": {},
          "execution_count": 22
        },
        {
          "output_type": "display_data",
          "data": {
            "text/plain": [
              "<Figure size 576x576 with 1 Axes>"
            ],
            "image/png": "[encoded data removed]"
          },
          "metadata": {
            "needs_background": "light"
          }
        }
      ]
    },
    {
      "cell_type": "markdown",
      "source": [
        "There is high correlation between skin thickness and insulin which agrees with our domain knowledge because we learnt that thicker skin is characteristic of someone with diabetes."
      ],
      "metadata": {
        "id": "--4NoRr73yr7"
      }
    },
    {
      "cell_type": "code",
      "source": [
        "diabetic = df[df['Outcome'] ==1]\n",
        "non_diabetic = df[df['Outcome'] == 0]\n",
        "\n",
        "\n",
        "plt.subplot(121)\n",
        "plt.scatter(diabetic['SkinThickness'], diabetic['Insulin'])\n",
        "plt.title('Diabetics')\n",
        "plt.subplot(122)\n",
        "plt.scatter(non_diabetic['SkinThickness'], non_diabetic['Insulin'])\n",
        "plt.title('Non Diabetics')\n"
      ],
      "metadata": {
        "colab": {
          "base_uri": "https://localhost:8080/",
          "height": 299
        },
        "id": "2qfgxYWY4HkA",
        "outputId": "2eaadc85-e3dd-45fc-d7e4-fc09a8d7c092"
      },
      "execution_count": null,
      "outputs": [
        {
          "output_type": "execute_result",
          "data": {
            "text/plain": [
              "Text(0.5, 1.0, 'Non Diabetics')"
            ]
          },
          "metadata": {},
          "execution_count": 5
        },
        {
          "output_type": "display_data",
          "data": {
            "text/plain": [
              "<Figure size 432x288 with 2 Axes>"
            ],
            "image/png": "[encoded data removed]"
          },
          "metadata": {
            "needs_background": "light"
          }
        }
      ]
    },
    {
      "cell_type": "markdown",
      "source": [
        "Here we see the difference of the effect of insulin on skin thickness between diabetic and non diabetics. "
      ],
      "metadata": {
        "id": "qVbSgPZN5Mhg"
      }
    },
    {
      "cell_type": "code",
      "source": [
        "plt.scatter(df['BMI'], df['BloodPressure'])"
      ],
      "metadata": {
        "colab": {
          "base_uri": "https://localhost:8080/",
          "height": 283
        },
        "id": "ACgkLjl15WGd",
        "outputId": "bbd1eca2-23fb-4411-f591-3bfbef03c9d1"
      },
      "execution_count": null,
      "outputs": [
        {
          "output_type": "execute_result",
          "data": {
            "text/plain": [
              "<matplotlib.collections.PathCollection at 0x7f026ff34bd0>"
            ]
          },
          "metadata": {},
          "execution_count": 6
        },
        {
          "output_type": "display_data",
          "data": {
            "text/plain": [
              "<Figure size 432x288 with 1 Axes>"
            ],
            "image/png": "[encoded data removed]"
          },
          "metadata": {
            "needs_background": "light"
          }
        }
      ]
    },
    {
      "cell_type": "markdown",
      "source": [
        "The higher the BMI the higher the blood pressure. This makes sense because high blood pressure is very linked to obesity. And the higher BMIs are on the scale of obesity."
      ],
      "metadata": {
        "id": "AjZ5nBxR5h9H"
      }
    },
    {
      "cell_type": "code",
      "source": [
        "plt.scatter(df['Glucose'], df['Insulin'])"
      ],
      "metadata": {
        "colab": {
          "base_uri": "https://localhost:8080/",
          "height": 283
        },
        "id": "SYfuZyG25wJB",
        "outputId": "043eb912-aa90-4335-fc6f-691a91f52196"
      },
      "execution_count": null,
      "outputs": [
        {
          "output_type": "execute_result",
          "data": {
            "text/plain": [
              "<matplotlib.collections.PathCollection at 0x7f026ff099d0>"
            ]
          },
          "metadata": {},
          "execution_count": 7
        },
        {
          "output_type": "display_data",
          "data": {
            "text/plain": [
              "<Figure size 432x288 with 1 Axes>"
            ],
            "image/png": "[encoded data removed]"
          },
          "metadata": {
            "needs_background": "light"
          }
        }
      ]
    },
    {
      "cell_type": "markdown",
      "source": [
        "It makes sense that the more glucose the more insulin because when there is more glucose in the blood, the pancreas creates more insulin to get the glucose levels under control. "
      ],
      "metadata": {
        "id": "tGfGKCVi6g_B"
      }
    },
    {
      "cell_type": "markdown",
      "source": [
        "Start Small and Zoom Out\n",
        "   - Focusing on age of diabetic patients"
      ],
      "metadata": {
        "id": "Txl5GNBz8W6K"
      }
    },
    {
      "cell_type": "code",
      "source": [
        "ages = df.loc[df[\"Outcome\"] == 1, \"Age\"]\n",
        "print(ages.mean())\n",
        "print(ages)\n",
        "print(ages.max())"
      ],
      "metadata": {
        "colab": {
          "base_uri": "https://localhost:8080/"
        },
        "id": "hHgzUks46UaM",
        "outputId": "d8c9b197-6c6c-49ea-fd93-9f7370bd3342"
      },
      "execution_count": null,
      "outputs": [
        {
          "output_type": "stream",
          "name": "stdout",
          "text": [
            "37.06716417910448\n",
            "0      50\n",
            "2      32\n",
            "4      33\n",
            "6      26\n",
            "8      53\n",
            "       ..\n",
            "755    37\n",
            "757    52\n",
            "759    66\n",
            "761    43\n",
            "766    47\n",
            "Name: Age, Length: 268, dtype: int64\n",
            "70\n"
          ]
        }
      ]
    },
    {
      "cell_type": "code",
      "source": [
        "ages2 = df.loc[df[\"Outcome\"] == 0, \"Age\"]\n",
        "print(ages2.mean())\n",
        "print(ages2)\n",
        "print(ages2.max())"
      ],
      "metadata": {
        "colab": {
          "base_uri": "https://localhost:8080/"
        },
        "id": "7C9x_6iZ8qMG",
        "outputId": "8b3fbd3d-0053-45c1-ccbb-3f4894e95d52"
      },
      "execution_count": null,
      "outputs": [
        {
          "output_type": "stream",
          "name": "stdout",
          "text": [
            "31.19\n",
            "1      31\n",
            "3      21\n",
            "5      30\n",
            "7      29\n",
            "10     30\n",
            "       ..\n",
            "762    33\n",
            "763    63\n",
            "764    27\n",
            "765    30\n",
            "767    23\n",
            "Name: Age, Length: 500, dtype: int64\n",
            "81\n"
          ]
        }
      ]
    },
    {
      "cell_type": "markdown",
      "source": [
        "Age does not seem to be such an influential factor on getting diabetes. The mean of both of them is similar and the eldest patient actually does not have diabetes."
      ],
      "metadata": {
        "id": "Rce9ttd19D2s"
      }
    },
    {
      "cell_type": "markdown",
      "source": [
        "##Logistic Regression"
      ],
      "metadata": {
        "id": "8X-i04wd93ID"
      }
    },
    {
      "cell_type": "code",
      "source": [
        "from sklearn.linear_model import LinearRegression\n",
        "from sklearn.cluster import KMeans\n",
        "from sklearn.neighbors import KNeighborsRegressor\n",
        "from sklearn.linear_model import LogisticRegression"
      ],
      "metadata": {
        "id": "JpNkO0MXivpR"
      },
      "execution_count": null,
      "outputs": []
    },
    {
      "cell_type": "code",
      "source": [
        "## Data \n",
        "X = df.to_numpy()\n",
        "n = len(X)\n",
        "\n",
        "## One-liner\n",
        "model = LinearRegression().fit(np.arange(n).reshape((n,1)), X)\n",
        "\n",
        "## Result\n",
        "classification = model.predict([[9]])\n",
        "print(classification)"
      ],
      "metadata": {
        "colab": {
          "base_uri": "https://localhost:8080/"
        },
        "id": "MfpXHFGi-SYi",
        "outputId": "c9371441-6dc9-4702-9081-5ddf503e03c6"
      },
      "execution_count": null,
      "outputs": [
        {
          "output_type": "stream",
          "name": "stdout",
          "text": [
            "[[  4.05665947 121.46504413  71.65713582  26.19082335 119.3271542\n",
            "   32.47375219   0.49443151  33.08775169   0.3853382 ]]\n"
          ]
        }
      ]
    },
    {
      "cell_type": "code",
      "source": [
        "df.mean()"
      ],
      "metadata": {
        "colab": {
          "base_uri": "https://localhost:8080/"
        },
        "id": "Sha8jxMjtpVi",
        "outputId": "8b398345-fe60-403c-8ad8-ddde235b893e"
      },
      "execution_count": null,
      "outputs": [
        {
          "output_type": "execute_result",
          "data": {
            "text/plain": [
              "Pregnancies                   3.845052\n",
              "Glucose                     121.687500\n",
              "BloodPressure                72.246094\n",
              "SkinThickness                26.496094\n",
              "Insulin                     118.664062\n",
              "BMI                          32.435286\n",
              "DiabetesPedigreeFunction      0.471876\n",
              "Age                          33.240885\n",
              "Outcome                       0.348958\n",
              "dtype: float64"
            ]
          },
          "metadata": {},
          "execution_count": 10
        }
      ]
    },
    {
      "cell_type": "markdown",
      "source": [
        "The classification vector from the linear regression has very similar values to the mean values. "
      ],
      "metadata": {
        "id": "S2AShB1Wt9Qa"
      }
    },
    {
      "cell_type": "code",
      "source": [
        "#insulin predicting diabetes\n",
        "model = LogisticRegression().fit(X[:,4].reshape(-1,1), X[:,8])\n",
        "\n",
        "## Result\n",
        "print(model.predict([[400],[350],[250],[220],[215]]))"
      ],
      "metadata": {
        "colab": {
          "base_uri": "https://localhost:8080/"
        },
        "id": "nc9j0M31DWKr",
        "outputId": "f1231c34-0d82-4b6c-8589-686863b1b985"
      },
      "execution_count": null,
      "outputs": [
        {
          "output_type": "stream",
          "name": "stdout",
          "text": [
            "[1. 1. 1. 1. 0.]\n"
          ]
        }
      ]
    },
    {
      "cell_type": "markdown",
      "source": [
        "This does not seem to pick up the insulin levels which would indicate diabetes."
      ],
      "metadata": {
        "id": "MnvUgG6mkRsn"
      }
    },
    {
      "cell_type": "code",
      "source": [
        "#Glucose predicting diabetes\n",
        "model = LogisticRegression().fit(X[:,1].reshape(-1,1), X[:,8])\n",
        "\n",
        "## Result \n",
        "print(model.predict([[10],[100],[140],[150],[200]]))"
      ],
      "metadata": {
        "colab": {
          "base_uri": "https://localhost:8080/"
        },
        "id": "UZ0ab4natAxK",
        "outputId": "93d0eb0f-6dfa-4f72-9ef4-50ec0078b973"
      },
      "execution_count": null,
      "outputs": [
        {
          "output_type": "stream",
          "name": "stdout",
          "text": [
            "[0. 0. 0. 1. 1.]\n"
          ]
        }
      ]
    },
    {
      "cell_type": "markdown",
      "source": [
        "Agrees with the idea that glucose levels above 140 are not normal and probably are indicative of diabetes. "
      ],
      "metadata": {
        "id": "IZOdjfXCuA19"
      }
    },
    {
      "cell_type": "code",
      "source": [
        "#find the center of each cluster\n",
        "kmeans = KMeans(n_clusters=2).fit(X)\n",
        "\n",
        "\n",
        "## Result & puzzle\n",
        "cc = kmeans.cluster_centers_\n",
        "print(cc)"
      ],
      "metadata": {
        "colab": {
          "base_uri": "https://localhost:8080/"
        },
        "id": "69Cv7grjEzMA",
        "outputId": "ab41f904-9a5d-4650-ed92-5f3e42150ab8"
      },
      "execution_count": null,
      "outputs": [
        {
          "output_type": "stream",
          "name": "stdout",
          "text": [
            "[[3.95714286e+00 1.53785714e+02 7.38857143e+01 3.21000000e+01\n",
            "  3.57657143e+02 3.59314286e+01 5.84871429e-01 3.40714286e+01\n",
            "  5.42857143e-01]\n",
            " [3.83381089e+00 1.18468481e+02 7.20816619e+01 2.59340974e+01\n",
            "  9.46962751e+01 3.20846705e+01 4.60544413e-01 3.31575931e+01\n",
            "  3.29512894e-01]]\n"
          ]
        }
      ]
    },
    {
      "cell_type": "code",
      "source": [
        "KNN = KNeighborsRegressor(n_neighbors=3).fit(X[:,0].reshape(-1,1), X[:,1])\n",
        "\n",
        "\n",
        "## Result & puzzle\n",
        "res = KNN.predict([[30]])\n",
        "print(res)"
      ],
      "metadata": {
        "colab": {
          "base_uri": "https://localhost:8080/"
        },
        "id": "aVB_pXb_FHrN",
        "outputId": "4233fa6c-8174-41e4-deff-4f3315507faf"
      },
      "execution_count": null,
      "outputs": [
        {
          "output_type": "stream",
          "name": "stdout",
          "text": [
            "[158.]\n"
          ]
        }
      ]
    },
    {
      "cell_type": "markdown",
      "source": [
        "##Metrics"
      ],
      "metadata": {
        "id": "IuW2XCnDmgh0"
      }
    },
    {
      "cell_type": "code",
      "source": [
        "from sklearn.linear_model import LogisticRegression\n",
        "from sklearn.model_selection import train_test_split\n",
        "from sklearn import metrics\n",
        "X_train, X_test, y_train, y_test = train_test_split(X, y, test_size=0.3, random_state=0)\n",
        "logreg = LogisticRegression()\n",
        "logreg.fit(X_train, y_train)\n",
        "\n",
        "y_pred = logreg.predict(X_test)\n"
      ],
      "metadata": {
        "colab": {
          "base_uri": "https://localhost:8080/"
        },
        "id": "eh2awmDh07tw",
        "outputId": "7f08fa9f-3ef7-41f9-dd2b-80b8d26254a6"
      },
      "execution_count": null,
      "outputs": [
        {
          "output_type": "stream",
          "name": "stderr",
          "text": [
            "/usr/local/lib/python3.7/dist-packages/sklearn/utils/validation.py:993: DataConversionWarning: A column-vector y was passed when a 1d array was expected. Please change the shape of y to (n_samples, ), for example using ravel().\n",
            "  y = column_or_1d(y, warn=True)\n",
            "/usr/local/lib/python3.7/dist-packages/sklearn/linear_model/_logistic.py:818: ConvergenceWarning: lbfgs failed to converge (status=1):\n",
            "STOP: TOTAL NO. of ITERATIONS REACHED LIMIT.\n",
            "\n",
            "Increase the number of iterations (max_iter) or scale the data as shown in:\n",
            "    https://scikit-learn.org/stable/modules/preprocessing.html\n",
            "Please also refer to the documentation for alternative solver options:\n",
            "    https://scikit-learn.org/stable/modules/linear_model.html#logistic-regression\n",
            "  extra_warning_msg=_LOGISTIC_SOLVER_CONVERGENCE_MSG,\n"
          ]
        }
      ]
    },
    {
      "cell_type": "markdown",
      "source": [
        "Precision"
      ],
      "metadata": {
        "id": "lOuR5Z9umlNB"
      }
    },
    {
      "cell_type": "code",
      "source": [
        "precision = diabetic.shape[0] / (.3853382 * 768 )\n",
        "precision"
      ],
      "metadata": {
        "colab": {
          "base_uri": "https://localhost:8080/"
        },
        "id": "2AOl4WIMwYaX",
        "outputId": "84cdb3c5-9407-4c7f-fb8d-667d26ac26de"
      },
      "execution_count": null,
      "outputs": [
        {
          "output_type": "execute_result",
          "data": {
            "text/plain": [
              "0.9055897736931696"
            ]
          },
          "metadata": {},
          "execution_count": 24
        }
      ]
    },
    {
      "cell_type": "markdown",
      "source": [
        "Precision = the amount of people who actually have diabetes / TP+FP which is the people who have diabetes + the people who do not but still got a positive result. \n",
        "\n",
        "The people actually having diabetes are TP (true positive). We predicted with our model that 39% of the people would have diabetes which needs to be multiplied by the amount of women. 268 women were actually true positive. The precision of our model is 90%. "
      ],
      "metadata": {
        "id": "QrRf3PJDufbh"
      }
    },
    {
      "cell_type": "markdown",
      "source": [
        "Accuracy\n",
        "\n",
        "accuracy = (TP+TN) / (TP+FP+FN+TN)\n"
      ],
      "metadata": {
        "id": "BQB9ywxfnPKp"
      }
    },
    {
      "cell_type": "code",
      "source": [
        "false_positive = int((.3853382 * 768 ) - diabetic.shape[0])\n",
        "false_negative = int(((1-.3853382) * 768) - non_diabetic.shape[0])\n",
        "\n",
        "accuracy = (diabetic.shape[0] + non_diabetic.shape[0]) / (diabetic.shape[0] + false_positive + non_diabetic.shape[0])\n",
        "accuracy"
      ],
      "metadata": {
        "colab": {
          "base_uri": "https://localhost:8080/"
        },
        "id": "b9xhorRew0tu",
        "outputId": "fbe4bd0e-f70f-4fc1-f690-ff95ed6a0092"
      },
      "execution_count": null,
      "outputs": [
        {
          "output_type": "execute_result",
          "data": {
            "text/plain": [
              "0.9660377358490566"
            ]
          },
          "metadata": {},
          "execution_count": 25
        }
      ]
    },
    {
      "cell_type": "markdown",
      "source": [
        "Recall\n",
        "\n",
        "recall = TP / (TP + FN)\n",
        "\n",
        "FN is when we predict they do not have diabetes but they really do"
      ],
      "metadata": {
        "id": "vT8XUbbUnP-_"
      }
    },
    {
      "cell_type": "code",
      "source": [
        "recall = diabetic.shape[0] / (diabetic.shape[0] + abs(false_negative))\n",
        "recall"
      ],
      "metadata": {
        "colab": {
          "base_uri": "https://localhost:8080/"
        },
        "id": "XV4oFB13yiFx",
        "outputId": "8ffbd1d0-02fd-4649-a089-fd38e896428a"
      },
      "execution_count": null,
      "outputs": [
        {
          "output_type": "execute_result",
          "data": {
            "text/plain": [
              "0.9084745762711864"
            ]
          },
          "metadata": {},
          "execution_count": 26
        }
      ]
    },
    {
      "cell_type": "markdown",
      "source": [
        "This tells us about the amount of false negatives that our model generates. "
      ],
      "metadata": {
        "id": "w01NLsvdzIA9"
      }
    },
    {
      "cell_type": "markdown",
      "source": [
        "Specificity\n",
        "\n",
        "specificity = TN / (TN + FP)"
      ],
      "metadata": {
        "id": "UF1Le62BnSbs"
      }
    },
    {
      "cell_type": "code",
      "source": [
        "specificity = non_diabetic.shape[0] / (non_diabetic.shape[0] + false_positive)\n",
        "specificity"
      ],
      "metadata": {
        "colab": {
          "base_uri": "https://localhost:8080/"
        },
        "id": "y7eBhVCKzTFy",
        "outputId": "eed5997b-b0a6-4462-f89e-bec2ce782fce"
      },
      "execution_count": null,
      "outputs": [
        {
          "output_type": "execute_result",
          "data": {
            "text/plain": [
              "0.9487666034155597"
            ]
          },
          "metadata": {},
          "execution_count": 27
        }
      ]
    },
    {
      "cell_type": "markdown",
      "source": [
        "F1\n",
        "\n",
        "F1 Score = 2 * Precision * Recall / (Precision + Recall)"
      ],
      "metadata": {
        "id": "JatSCc8UnS32"
      }
    },
    {
      "cell_type": "code",
      "source": [
        "# a single score to represent both precision and recall\n",
        "f1 = (2 * precision * recall) / (precision + recall)\n",
        "f1"
      ],
      "metadata": {
        "colab": {
          "base_uri": "https://localhost:8080/"
        },
        "id": "VOs6Q5GYzobv",
        "outputId": "a7985406-bdbd-497d-9eec-e11da1e618dd"
      },
      "execution_count": null,
      "outputs": [
        {
          "output_type": "execute_result",
          "data": {
            "text/plain": [
              "0.9070298812140671"
            ]
          },
          "metadata": {},
          "execution_count": 28
        }
      ]
    },
    {
      "cell_type": "markdown",
      "source": [
        "Smote"
      ],
      "metadata": {
        "id": "xOc8ZzpO1PVl"
      }
    },
    {
      "cell_type": "code",
      "source": [
        "#use smote to balance the data\n",
        "from sklearn.model_selection import train_test_split\n",
        "\n",
        "\n",
        "data_final = df\n",
        "X = data_final.loc[:, data_final.columns != 'Outcome']\n",
        "y = data_final.loc[:, data_final.columns == 'Outcome']\n",
        "\n",
        "from imblearn.over_sampling import SMOTE\n",
        "os = SMOTE(random_state=0)\n",
        "X_train, X_test, y_train, y_test = train_test_split(X, y, test_size=0.3, random_state=0)\n",
        "columns = X_train.columns\n",
        "os_data_X,os_data_y=os.fit_resample(X_train, y_train)\n",
        "os_data_X = pd.DataFrame(data=os_data_X,columns=columns)\n",
        "os_data_y= pd.DataFrame(data=os_data_y,columns=['Glucose','Insulin','BMI'])\n"
      ],
      "metadata": {
        "id": "_ll6pxd-miVB"
      },
      "execution_count": null,
      "outputs": []
    },
    {
      "cell_type": "code",
      "source": [
        "data_final_vars=df.columns.values.tolist()\n",
        "y=['y']\n",
        "X=[i for i in data_final_vars if i not in y]\n",
        "from sklearn.feature_selection import RFE\n",
        "from sklearn.linear_model import LogisticRegression\n",
        "logreg = LogisticRegression()\n",
        "rfe = RFE(logreg, 20)\n",
        "rfe = rfe.fit(os_data_X, os_data_y.values.ravel())\n",
        "print(rfe.support_)\n",
        "print(rfe.ranking_)"
      ],
      "metadata": {
        "id": "1KuGVnHt2y9v",
        "colab": {
          "base_uri": "https://localhost:8080/",
          "height": 240
        },
        "outputId": "48baca40-75a5-4e6f-b494-ba6db1c4644f"
      },
      "execution_count": null,
      "outputs": [
        {
          "output_type": "error",
          "ename": "TypeError",
          "evalue": "ignored",
          "traceback": [
            "\u001b[0;31m---------------------------------------------------------------------------\u001b[0m",
            "\u001b[0;31mTypeError\u001b[0m                                 Traceback (most recent call last)",
            "\u001b[0;32m<ipython-input-31-8c6bf979308c>\u001b[0m in \u001b[0;36m<module>\u001b[0;34m()\u001b[0m\n\u001b[1;32m      5\u001b[0m \u001b[0;32mfrom\u001b[0m \u001b[0msklearn\u001b[0m\u001b[0;34m.\u001b[0m\u001b[0mlinear_model\u001b[0m \u001b[0;32mimport\u001b[0m \u001b[0mLogisticRegression\u001b[0m\u001b[0;34m\u001b[0m\u001b[0;34m\u001b[0m\u001b[0m\n\u001b[1;32m      6\u001b[0m \u001b[0mlogreg\u001b[0m \u001b[0;34m=\u001b[0m \u001b[0mLogisticRegression\u001b[0m\u001b[0;34m(\u001b[0m\u001b[0;34m)\u001b[0m\u001b[0;34m\u001b[0m\u001b[0;34m\u001b[0m\u001b[0m\n\u001b[0;32m----> 7\u001b[0;31m \u001b[0mrfe\u001b[0m \u001b[0;34m=\u001b[0m \u001b[0mRFE\u001b[0m\u001b[0;34m(\u001b[0m\u001b[0mlogreg\u001b[0m\u001b[0;34m,\u001b[0m \u001b[0;36m20\u001b[0m\u001b[0;34m)\u001b[0m\u001b[0;34m\u001b[0m\u001b[0;34m\u001b[0m\u001b[0m\n\u001b[0m\u001b[1;32m      8\u001b[0m \u001b[0mrfe\u001b[0m \u001b[0;34m=\u001b[0m \u001b[0mrfe\u001b[0m\u001b[0;34m.\u001b[0m\u001b[0mfit\u001b[0m\u001b[0;34m(\u001b[0m\u001b[0mos_data_X\u001b[0m\u001b[0;34m,\u001b[0m \u001b[0mos_data_y\u001b[0m\u001b[0;34m.\u001b[0m\u001b[0mvalues\u001b[0m\u001b[0;34m.\u001b[0m\u001b[0mravel\u001b[0m\u001b[0;34m(\u001b[0m\u001b[0;34m)\u001b[0m\u001b[0;34m)\u001b[0m\u001b[0;34m\u001b[0m\u001b[0;34m\u001b[0m\u001b[0m\n\u001b[1;32m      9\u001b[0m \u001b[0mprint\u001b[0m\u001b[0;34m(\u001b[0m\u001b[0mrfe\u001b[0m\u001b[0;34m.\u001b[0m\u001b[0msupport_\u001b[0m\u001b[0;34m)\u001b[0m\u001b[0;34m\u001b[0m\u001b[0;34m\u001b[0m\u001b[0m\n",
            "\u001b[0;31mTypeError\u001b[0m: __init__() takes 2 positional arguments but 3 were given"
          ]
        }
      ]
    },
    {
      "cell_type": "markdown",
      "source": [
        "Retest:"
      ],
      "metadata": {
        "id": "cKPyVQx922Yj"
      }
    },
    {
      "cell_type": "code",
      "source": [
        "print(f'The precision is {diabetic.shape[0] / (.3853382 * 768 ):.2f}')\n",
        "print(f'The accuracy is {(diabetic.shape[0] + non_diabetic.shape[0]) / (diabetic.shape[0] + false_positive + non_diabetic.shape[0]):.2f}')\n",
        "print(f'The recall is {diabetic.shape[0] / (diabetic.shape[0] + abs(false_negative)):.2f}')\n",
        "print(f'The specificity is {non_diabetic.shape[0] / (non_diabetic.shape[0] + false_positive):.2f}')\n",
        "print(f'The f1 score is {(2 * precision * recall) / (precision + recall):.2f}')"
      ],
      "metadata": {
        "colab": {
          "base_uri": "https://localhost:8080/"
        },
        "id": "LAXRQCa_26Vd",
        "outputId": "7f5ba056-3fe0-4eef-91ae-c4ee0276471f"
      },
      "execution_count": null,
      "outputs": [
        {
          "output_type": "stream",
          "name": "stdout",
          "text": [
            "The precision is 0.91\n",
            "The accuracy is 0.97\n",
            "The recall is 0.91\n",
            "The specificity is 0.95\n",
            "The f1 score is 0.91\n"
          ]
        }
      ]
    },
    {
      "cell_type": "markdown",
      "source": [
        "Confusion Matrix and ROC curve"
      ],
      "metadata": {
        "id": "weUI1nF33MXv"
      }
    },
    {
      "cell_type": "code",
      "source": [
        "from sklearn.metrics import confusion_matrix\n",
        "confusion_matrix = confusion_matrix(y_test, y_pred)\n",
        "print(confusion_matrix)"
      ],
      "metadata": {
        "colab": {
          "base_uri": "https://localhost:8080/"
        },
        "id": "ybxMkausTkOq",
        "outputId": "127eaec9-44ba-41c0-c37b-f1d4dd5369a0"
      },
      "execution_count": null,
      "outputs": [
        {
          "output_type": "stream",
          "name": "stdout",
          "text": [
            "[[139  18]\n",
            " [ 35  39]]\n"
          ]
        }
      ]
    },
    {
      "cell_type": "markdown",
      "source": [
        "We have 139 + 39= 178 correct predictions and 35 + 18=53 incorrect predictions. "
      ],
      "metadata": {
        "id": "IcpTPFCKUBGv"
      }
    },
    {
      "cell_type": "code",
      "source": [
        "import pandas as pd\n",
        "import numpy as np\n",
        "from sklearn.model_selection import train_test_split\n",
        "from sklearn.linear_model import LogisticRegression\n",
        "from sklearn import metrics\n",
        "import matplotlib.pyplot as plt\n"
      ],
      "metadata": {
        "id": "w0ndoQF4YnCn"
      },
      "execution_count": null,
      "outputs": []
    },
    {
      "cell_type": "markdown",
      "source": [
        "Chi-square and P-values "
      ],
      "metadata": {
        "id": "edDbGDgy3RVa"
      }
    },
    {
      "cell_type": "code",
      "source": [
        "#chi-square\n",
        "#import stats module to perform chi-square\n",
        "from scipy import stats\n",
        "\n",
        "#perform chi-square test\n",
        "target=df['Outcome'].reset_index(drop=True).copy()\n",
        "chi_sq=[]\n",
        "for i in range(0,9):\n",
        "    chi_sq.append([stats.chi2_contingency(pd.crosstab(target, df.iloc[:,i]))[0:2],i])\n",
        "#chi_sq\n",
        "chi_sq.sort(reverse=True)\n",
        "chi_sq"
      ],
      "metadata": {
        "colab": {
          "base_uri": "https://localhost:8080/"
        },
        "id": "ZTsPsGTyUNB2",
        "outputId": "a14bdd52-d18c-46b7-cf29-9dc4b93f5d52"
      },
      "execution_count": null,
      "outputs": [
        {
          "output_type": "execute_result",
          "data": {
            "text/plain": [
              "[[(763.6046352310092, 4.4187473707431515e-168), 8],\n",
              " [(589.5239982728542, 5.455438093805441e-44), 4],\n",
              " [(533.0240955223882, 0.29290546216135716), 6],\n",
              " [(287.64689047072335, 0.03509667074218099), 5],\n",
              " [(275.2800729123505, 2.9133709145906626e-33), 3],\n",
              " [(270.9175010948665, 2.6234989695630077e-11), 1],\n",
              " [(140.9375197044156, 2.3069818149863462e-10), 7],\n",
              " [(69.41823221518906, 0.011192756076669768), 2],\n",
              " [(64.59480868723006, 8.648349123362548e-08), 0]]"
            ]
          },
          "metadata": {},
          "execution_count": 36
        }
      ]
    },
    {
      "cell_type": "code",
      "source": [
        "#p-value\n",
        "import statsmodels.api as sm\n",
        "logit_model=sm.Logit(y,X)\n",
        "result=logit_model.fit()\n",
        "print(result.summary2())"
      ],
      "metadata": {
        "colab": {
          "base_uri": "https://localhost:8080/"
        },
        "id": "cC4_bUXBUqNA",
        "outputId": "5f85f1db-823d-4b54-aa76-06ac4eae0fa4"
      },
      "execution_count": null,
      "outputs": [
        {
          "output_type": "stream",
          "name": "stderr",
          "text": [
            "/usr/local/lib/python3.7/dist-packages/statsmodels/tools/_testing.py:19: FutureWarning: pandas.util.testing is deprecated. Use the functions in the public API at pandas.testing instead.\n",
            "  import pandas.util.testing as tm\n"
          ]
        },
        {
          "output_type": "stream",
          "name": "stdout",
          "text": [
            "Optimization terminated successfully.\n",
            "         Current function value: 0.575030\n",
            "         Iterations 5\n",
            "                             Results: Logit\n",
            "========================================================================\n",
            "Model:                 Logit              Pseudo R-squared:   0.111     \n",
            "Dependent Variable:    Outcome            AIC:                899.2463  \n",
            "Date:                  2022-06-23 20:48   BIC:                936.3966  \n",
            "No. Observations:      768                Log-Likelihood:     -441.62   \n",
            "Df Model:              7                  LL-Null:            -496.74   \n",
            "Df Residuals:          760                LLR p-value:        8.1971e-21\n",
            "Converged:             1.0000             Scale:              1.0000    \n",
            "No. Iterations:        5.0000                                           \n",
            "------------------------------------------------------------------------\n",
            "                          Coef.  Std.Err.    z    P>|z|   [0.025  0.975]\n",
            "------------------------------------------------------------------------\n",
            "Pregnancies               0.1338   0.0294  4.5555 0.0000  0.0762  0.1913\n",
            "Glucose                   0.0204   0.0032  6.3800 0.0000  0.0141  0.0266\n",
            "BloodPressure            -0.0588   0.0071 -8.2950 0.0000 -0.0727 -0.0449\n",
            "SkinThickness             0.0014   0.0102  0.1369 0.8911 -0.0185  0.0213\n",
            "Insulin                   0.0016   0.0010  1.5868 0.1126 -0.0004  0.0036\n",
            "BMI                       0.0109   0.0145  0.7554 0.4500 -0.0175  0.0393\n",
            "DiabetesPedigreeFunction  0.3369   0.2523  1.3353 0.1818 -0.1576  0.8315\n",
            "Age                      -0.0024   0.0089 -0.2714 0.7861 -0.0198  0.0150\n",
            "========================================================================\n",
            "\n"
          ]
        }
      ]
    },
    {
      "cell_type": "markdown",
      "source": [
        "KNN Model"
      ],
      "metadata": {
        "id": "CYSca2Gh3TCE"
      }
    },
    {
      "cell_type": "code",
      "source": [
        "from sklearn.neighbors import KNeighborsRegressor\n",
        "import numpy as np\n",
        "\n",
        "X = df.to_numpy()\n",
        "\n",
        "## One-liner\n",
        "KNN = KNeighborsRegressor(n_neighbors=3).fit(X[:,0].reshape(-1,1), X[:,1])\n",
        "\n",
        "\n",
        "res = KNN.predict([[30]])\n",
        "print(res)"
      ],
      "metadata": {
        "colab": {
          "base_uri": "https://localhost:8080/"
        },
        "id": "vS9ksg2DU01E",
        "outputId": "0ddd58c6-7279-48cf-b9c9-cc370a12f00b"
      },
      "execution_count": null,
      "outputs": [
        {
          "output_type": "stream",
          "name": "stdout",
          "text": [
            "[158.]\n"
          ]
        }
      ]
    },
    {
      "cell_type": "code",
      "source": [
        "print(X[:,0])\n",
        "\n",
        "print(X[:,0].reshape(-1,1))\n"
      ],
      "metadata": {
        "id": "E3CuLnUSViZ3"
      },
      "execution_count": null,
      "outputs": []
    },
    {
      "cell_type": "markdown",
      "source": [
        "Through the analysis we see how the different attributes under study come in to play in determining if a given patient is diabetic or not. Our models helped predict which attriubutes have more of an effect on deibetes and checked the data. The KNN model was not so helpful.But the metrics showed how effective our models were and how precise/accurate they were. "
      ],
      "metadata": {
        "id": "vgz3PSwPWRMt"
      }
    }
  ]
}