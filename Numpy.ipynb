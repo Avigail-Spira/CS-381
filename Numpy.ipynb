{
  "nbformat": 4,
  "nbformat_minor": 0,
  "metadata": {
    "colab": {
      "name": "Numpy",
      "provenance": [],
      "authorship_tag": "ABX9TyO/ScZqGH3ICRbB3uA4t3qs",
      "include_colab_link": true
    },
    "kernelspec": {
      "name": "python3",
      "display_name": "Python 3"
    },
    "language_info": {
      "name": "python"
    }
  },
  "cells": [
    {
      "cell_type": "markdown",
      "metadata": {
        "id": "view-in-github",
        "colab_type": "text"
      },
      "source": [
        "<a href=\"https://colab.research.google.com/github/Avigail-Spira/CS-381/blob/main/Numpy.ipynb\" target=\"_parent\"><img src=\"https://colab.research.google.com/assets/colab-badge.svg\" alt=\"Open In Colab\"/></a>"
      ]
    },
    {
      "cell_type": "code",
      "execution_count": 2,
      "metadata": {
        "id": "nk-40R5rMeGI"
      },
      "outputs": [],
      "source": [
        "import numpy as np\n",
        "import pandas as pd"
      ]
    },
    {
      "cell_type": "markdown",
      "source": [
        "#####Problem 1\n",
        "######find the distinct/unique common items between these two\n",
        "arrays"
      ],
      "metadata": {
        "id": "tCs8W1l546b_"
      }
    },
    {
      "cell_type": "code",
      "source": [
        "a = np.array([1, 2, 3, 2, 3, 4, 3, 4, 5, 6])\n",
        "b = np.array([7, 2, 10, 2, 7, 4, 9, 4, 9, 8])\n",
        "\n",
        "print(np.intersect1d(a, b))"
      ],
      "metadata": {
        "colab": {
          "base_uri": "https://localhost:8080/",
          "height": 215
        },
        "id": "1Vam2qPB49Dr",
        "outputId": "858ea566-68e4-4288-f070-51425049f431"
      },
      "execution_count": 1,
      "outputs": [
        {
          "output_type": "error",
          "ename": "NameError",
          "evalue": "ignored",
          "traceback": [
            "\u001b[0;31m---------------------------------------------------------------------------\u001b[0m",
            "\u001b[0;31mNameError\u001b[0m                                 Traceback (most recent call last)",
            "\u001b[0;32m<ipython-input-1-1c841993879a>\u001b[0m in \u001b[0;36m<module>\u001b[0;34m()\u001b[0m\n\u001b[0;32m----> 1\u001b[0;31m \u001b[0ma\u001b[0m \u001b[0;34m=\u001b[0m \u001b[0mnp\u001b[0m\u001b[0;34m.\u001b[0m\u001b[0marray\u001b[0m\u001b[0;34m(\u001b[0m\u001b[0;34m[\u001b[0m\u001b[0;36m1\u001b[0m\u001b[0;34m,\u001b[0m \u001b[0;36m2\u001b[0m\u001b[0;34m,\u001b[0m \u001b[0;36m3\u001b[0m\u001b[0;34m,\u001b[0m \u001b[0;36m2\u001b[0m\u001b[0;34m,\u001b[0m \u001b[0;36m3\u001b[0m\u001b[0;34m,\u001b[0m \u001b[0;36m4\u001b[0m\u001b[0;34m,\u001b[0m \u001b[0;36m3\u001b[0m\u001b[0;34m,\u001b[0m \u001b[0;36m4\u001b[0m\u001b[0;34m,\u001b[0m \u001b[0;36m5\u001b[0m\u001b[0;34m,\u001b[0m \u001b[0;36m6\u001b[0m\u001b[0;34m]\u001b[0m\u001b[0;34m)\u001b[0m\u001b[0;34m\u001b[0m\u001b[0;34m\u001b[0m\u001b[0m\n\u001b[0m\u001b[1;32m      2\u001b[0m \u001b[0mb\u001b[0m \u001b[0;34m=\u001b[0m \u001b[0mnp\u001b[0m\u001b[0;34m.\u001b[0m\u001b[0marray\u001b[0m\u001b[0;34m(\u001b[0m\u001b[0;34m[\u001b[0m\u001b[0;36m7\u001b[0m\u001b[0;34m,\u001b[0m \u001b[0;36m2\u001b[0m\u001b[0;34m,\u001b[0m \u001b[0;36m10\u001b[0m\u001b[0;34m,\u001b[0m \u001b[0;36m2\u001b[0m\u001b[0;34m,\u001b[0m \u001b[0;36m7\u001b[0m\u001b[0;34m,\u001b[0m \u001b[0;36m4\u001b[0m\u001b[0;34m,\u001b[0m \u001b[0;36m9\u001b[0m\u001b[0;34m,\u001b[0m \u001b[0;36m4\u001b[0m\u001b[0;34m,\u001b[0m \u001b[0;36m9\u001b[0m\u001b[0;34m,\u001b[0m \u001b[0;36m8\u001b[0m\u001b[0;34m]\u001b[0m\u001b[0;34m)\u001b[0m\u001b[0;34m\u001b[0m\u001b[0;34m\u001b[0m\u001b[0m\n\u001b[1;32m      3\u001b[0m \u001b[0;34m\u001b[0m\u001b[0m\n\u001b[1;32m      4\u001b[0m \u001b[0mprint\u001b[0m\u001b[0;34m(\u001b[0m\u001b[0mnp\u001b[0m\u001b[0;34m.\u001b[0m\u001b[0mintersect1d\u001b[0m\u001b[0;34m(\u001b[0m\u001b[0ma\u001b[0m\u001b[0;34m,\u001b[0m \u001b[0mb\u001b[0m\u001b[0;34m)\u001b[0m\u001b[0;34m)\u001b[0m\u001b[0;34m\u001b[0m\u001b[0;34m\u001b[0m\u001b[0m\n",
            "\u001b[0;31mNameError\u001b[0m: name 'np' is not defined"
          ]
        }
      ]
    },
    {
      "cell_type": "markdown",
      "source": [
        "#####Problem 2\n",
        "######Create the following 5x3 array using knowledge you have of Python’s / NumPy’s sequencing functionality"
      ],
      "metadata": {
        "id": "hoD5F7SS6PD2"
      }
    },
    {
      "cell_type": "code",
      "source": [
        "array = np.arange(1,16).reshape(5,3)\n",
        "print(array)"
      ],
      "metadata": {
        "colab": {
          "base_uri": "https://localhost:8080/"
        },
        "id": "KPFzJHuy6aYP",
        "outputId": "69e425b5-1537-4129-cb34-828d6d4fd864"
      },
      "execution_count": 9,
      "outputs": [
        {
          "output_type": "stream",
          "name": "stdout",
          "text": [
            "[[ 1  2  3]\n",
            " [ 4  5  6]\n",
            " [ 7  8  9]\n",
            " [10 11 12]\n",
            " [13 14 15]]\n"
          ]
        }
      ]
    },
    {
      "cell_type": "markdown",
      "source": [
        "#####Problem 3\n",
        "######Transform the 5x3 array shown above in Problem 2 into a unidimensional array"
      ],
      "metadata": {
        "id": "mqk6dQO76tKX"
      }
    },
    {
      "cell_type": "code",
      "source": [
        "array2D = list(np.array(array).flatten())\n",
        "print(array2D)"
      ],
      "metadata": {
        "colab": {
          "base_uri": "https://localhost:8080/"
        },
        "id": "UPRg82fb6wBa",
        "outputId": "59871b6f-ac89-4098-9b7c-f37540724d9b"
      },
      "execution_count": 18,
      "outputs": [
        {
          "output_type": "stream",
          "name": "stdout",
          "text": [
            "[1, 2, 3, 4, 5, 6, 7, 8, 9, 10, 11, 12, 13, 14, 15]\n"
          ]
        }
      ]
    },
    {
      "cell_type": "markdown",
      "source": [
        "#####Problem 4\n",
        "######Transform the 2-D array shown in Problem 2 into a 3 dimensional array such that the first column becomes the first dimension of the 3-D array, the second column becomes the second dimension of the 3-D array, and the third column becomes the third dimension of the 3-D array."
      ],
      "metadata": {
        "id": "nShfPhNd7YrS"
      }
    },
    {
      "cell_type": "code",
      "source": [
        "array3D = np.array(array).T\n",
        "print(array3D)"
      ],
      "metadata": {
        "colab": {
          "base_uri": "https://localhost:8080/"
        },
        "id": "wG7osRwz7eNu",
        "outputId": "522d7014-e591-4b43-ecd8-9847d9679a7b"
      },
      "execution_count": 19,
      "outputs": [
        {
          "output_type": "stream",
          "name": "stdout",
          "text": [
            "[[ 1  4  7 10 13]\n",
            " [ 2  5  8 11 14]\n",
            " [ 3  6  9 12 15]]\n"
          ]
        }
      ]
    },
    {
      "cell_type": "markdown",
      "source": [
        "#####Problem 5\n",
        "######Transform the 3-D array you created in Problem 4 back to the 2-dimensional format shown in Problem 2."
      ],
      "metadata": {
        "id": "Kr0FiPLH8Fph"
      }
    },
    {
      "cell_type": "code",
      "source": [
        "again2D = np.array(array3D).T\n",
        "print(again2D)"
      ],
      "metadata": {
        "colab": {
          "base_uri": "https://localhost:8080/"
        },
        "id": "qSKdNAll8KAn",
        "outputId": "7dc07f3c-391a-41b4-d39e-9de62d3886c3"
      },
      "execution_count": 20,
      "outputs": [
        {
          "output_type": "stream",
          "name": "stdout",
          "text": [
            "[[ 1  2  3]\n",
            " [ 4  5  6]\n",
            " [ 7  8  9]\n",
            " [10 11 12]\n",
            " [13 14 15]]\n"
          ]
        }
      ]
    },
    {
      "cell_type": "markdown",
      "source": [
        "#####Problem 6\n",
        "######Write a Python/Numpy code block that removes from array a any items that are also present in array b."
      ],
      "metadata": {
        "id": "l0U6qBjw86dU"
      }
    },
    {
      "cell_type": "code",
      "source": [
        "a = np.array([12, 5, 7, 15, 3, 1, 8])\n",
        "b = np.array([14, 6, 3, 11, 19, 12, 5])\n",
        "\n",
        "for i in b:\n",
        "  if i in a:\n",
        "    np.delete(a, i)\n",
        "print(a)"
      ],
      "metadata": {
        "id": "8GdhOprv8_iS"
      },
      "execution_count": null,
      "outputs": []
    },
    {
      "cell_type": "markdown",
      "source": [
        "#####Problem 7\n",
        "1. What is the maximum yearly NYC consumption of water in millions of gallons per day?\n",
        "2. How many calendar years are represented within this data set? NumPy's shape command is one way to find\n",
        "out.\n",
        "3. What is the mean and the standard deviation of the per capita daily water consumption?\n",
        "4. What is the increase or decrease in population from year to year? Use NumPy's `diff` function to create an array\n",
        "of differences and save that to a variable called \"pop_diff\", then print that variable to the screen."
      ],
      "metadata": {
        "id": "9D68jiD1A-kV"
      }
    },
    {
      "cell_type": "code",
      "source": [
        "df = pd.read_csv(\"https://raw.githubusercontent.com/Avigail-Spira/CS-381/main/Module6_Data.csv\")\n",
        "print(df)\n",
        "\n",
        "maxima = list(np.max(df, axis = 0))\n",
        "print(f\"The maximum yearly NYC consumption of water in mullions of gallons per day is \", maxima[2])\n",
        "\n",
        "\n",
        "print(\"There are \", np.shape(df['Year']), \" calender years.\")\n",
        "\n",
        "mean = df['Per Capita(Gallons per person per day)'].mean()\n",
        "sd = df['Per Capita(Gallons per person per day)'].std()\n",
        "print(\"The mean of the per capita daily water consumption is \", mean, \" and the standard deviation is \", sd)\n"
      ],
      "metadata": {
        "colab": {
          "base_uri": "https://localhost:8080/"
        },
        "id": "S91xdp3p4sAo",
        "outputId": "5c3be9d9-6cf7-4d76-b546-2b7009439051"
      },
      "execution_count": 53,
      "outputs": [
        {
          "output_type": "stream",
          "name": "stdout",
          "text": [
            "    Year  New York City Population  NYC Consumption(Million gallons per day)  \\\n",
            "0   1979                 7102100.0                                    1512.0   \n",
            "1   1980                 7071639.0                                    1506.0   \n",
            "2   1981                 7089241.0                                    1309.0   \n",
            "3   1982                 7109105.0                                    1382.0   \n",
            "4   1983                 7181224.0                                    1424.0   \n",
            "5   1984                 7234514.0                                    1465.0   \n",
            "6   1985                 7274054.0                                    1326.0   \n",
            "7   1986                 7319246.0                                    1351.0   \n",
            "8   1987                 7342476.0                                    1447.0   \n",
            "9   1988                 7353719.0                                    1484.0   \n",
            "10  1989                 7344175.0                                    1402.0   \n",
            "11  1990                 7335650.0                                    1424.0   \n",
            "12  1991                 7374501.0                                    1469.0   \n",
            "13  1992                 7428944.0                                    1369.0   \n",
            "14  1993                 7506166.0                                    1368.5   \n",
            "15  1994                 7570458.0                                    1357.7   \n",
            "16  1995                 7633040.0                                    1325.7   \n",
            "17  1996                 7697812.0                                    1297.9   \n",
            "18  1997                 7773443.0                                    1205.5   \n",
            "19  1998                 7858259.0                                    1219.5   \n",
            "20  1999                 7947660.0                                    1237.2   \n",
            "21  2000                 8008278.0                                    1240.4   \n",
            "22  2001                 8024963.5                                    1184.0   \n",
            "23  2002                 8041649.0                                    1135.6   \n",
            "24  2003                 8058334.5                                    1093.7   \n",
            "25  2004                 8075020.0                                    1099.5   \n",
            "26  2005                 8091705.5                                    1138.0   \n",
            "27  2006                 8108391.0                                    1069.0   \n",
            "28  2007                 8125076.5                                    1114.0   \n",
            "29  2008                 8141762.0                                    1098.0   \n",
            "30  2009                 8158447.5                                    1007.5   \n",
            "31  2010                 8175133.0                                    1039.0   \n",
            "32  2011                 8284098.0                                    1021.0   \n",
            "33  2012                 8361179.0                                    1009.1   \n",
            "34  2013                 8422460.0                                    1006.1   \n",
            "35  2014                 8471990.0                                     996.0   \n",
            "36  2015                 8516502.0                                    1009.0   \n",
            "37  2016                 8537673.0                                    1002.0   \n",
            "38  2017                 8622698.0                                     990.2   \n",
            "\n",
            "    Per Capita(Gallons per person per day)  Unnamed: 4  \n",
            "0                                      213         NaN  \n",
            "1                                      213         NaN  \n",
            "2                                      185         NaN  \n",
            "3                                      194         NaN  \n",
            "4                                      198         NaN  \n",
            "5                                      203         NaN  \n",
            "6                                      182         NaN  \n",
            "7                                      185         NaN  \n",
            "8                                      197         NaN  \n",
            "9                                      202         NaN  \n",
            "10                                     191         NaN  \n",
            "11                                     194         NaN  \n",
            "12                                     199         NaN  \n",
            "13                                     184         NaN  \n",
            "14                                     182         NaN  \n",
            "15                                     179         NaN  \n",
            "16                                     174         NaN  \n",
            "17                                     169         NaN  \n",
            "18                                     155         NaN  \n",
            "19                                     155         NaN  \n",
            "20                                     156         NaN  \n",
            "21                                     155         NaN  \n",
            "22                                     148         NaN  \n",
            "23                                     141         NaN  \n",
            "24                                     136         NaN  \n",
            "25                                     136         NaN  \n",
            "26                                     141         NaN  \n",
            "27                                     132         NaN  \n",
            "28                                     137         NaN  \n",
            "29                                     135         NaN  \n",
            "30                                     123         NaN  \n",
            "31                                     127         NaN  \n",
            "32                                     123         NaN  \n",
            "33                                     121         NaN  \n",
            "34                                     119         NaN  \n",
            "35                                     118         NaN  \n",
            "36                                     118         NaN  \n",
            "37                                     117         NaN  \n",
            "38                                     115         NaN  \n",
            "The maximum yearly NYC consumption of water in mullions of gallons per day is  1512.0\n",
            "There are  (39,)  calender years.\n",
            "The mean of the per capita daily water consumption is  160.30769230769232  and the standard deviation is  31.930973122258784\n"
          ]
        }
      ]
    }
  ]
}