{
  "nbformat": 4,
  "nbformat_minor": 0,
  "metadata": {
    "colab": {
      "name": "Text Processing",
      "provenance": [],
      "authorship_tag": "ABX9TyM3u2+4vh5h+hmfvaZDCdjf",
      "include_colab_link": true
    },
    "kernelspec": {
      "name": "python3",
      "display_name": "Python 3"
    },
    "language_info": {
      "name": "python"
    }
  },
  "cells": [
    {
      "cell_type": "markdown",
      "metadata": {
        "id": "view-in-github",
        "colab_type": "text"
      },
      "source": [
        "<a href=\"https://colab.research.google.com/github/Avigail-Spira/CS-381/blob/main/Text_Processing.ipynb\" target=\"_parent\"><img src=\"https://colab.research.google.com/assets/colab-badge.svg\" alt=\"Open In Colab\"/></a>"
      ]
    },
    {
      "cell_type": "code",
      "source": [
        "import re\n",
        "import pandas as pd"
      ],
      "metadata": {
        "id": "8d-Tvg2zH8ws"
      },
      "execution_count": 29,
      "outputs": []
    },
    {
      "cell_type": "code",
      "execution_count": 60,
      "metadata": {
        "colab": {
          "base_uri": "https://localhost:8080/"
        },
        "id": "PESUAfZXH47b",
        "outputId": "e5afbb65-92e9-401d-ce64-d76485e8fe7c"
      },
      "outputs": [
        {
          "output_type": "stream",
          "name": "stdout",
          "text": [
            "['555', '1239', '636', '555', '0113', '555', '6542', '555', '8904', '636', '555', '3226', '5553642']\n",
            "['Dr. Bernard Lander', 'Hollingdorp, Donnatella', 'Rev. Martin Luther ', 'Snodgrass, Theodore', 'Carlamina Scarfoni']\n",
            "0         Dr. Bernard Lander\n",
            "1    Hollingdorp, Donnatella\n",
            "2        Rev. Martin Luther \n",
            "3        Snodgrass, Theodore\n",
            "4         Carlamina Scarfoni\n",
            "dtype: object\n",
            "0     True\n",
            "1    False\n",
            "2     True\n",
            "3    False\n",
            "4    False\n",
            "dtype: bool\n",
            "0     True\n",
            "1    False\n",
            "2     True\n",
            "3    False\n",
            "4    False\n",
            "dtype: bool\n"
          ]
        }
      ],
      "source": [
        "string = \"555-1239Dr. Bernard Lander(636) 555-0113Hollingdorp, Donnatella555-6542Fitzgerald, F. Sco\\\n",
        "tt555 8904Rev. Martin Luther King636-555-3226Snodgrass, Theodore5553642Carlamina Scarfoni\"\n",
        "\n",
        "#extract the numbers\n",
        "print(re.findall('[0-9]+', string))\n",
        "#print(re.sub('[0-9]+', '', string))\n",
        "\n",
        "\n",
        "#Extract the names\n",
        "name = re.compile('[A-Z][a-z]+,?\\.?\\s?[A-Z][a-z]+,?\\s?[A-Z]?[a-z]+,?\\s?')\n",
        "people = name.findall(string)\n",
        "print(people)\n",
        "\n",
        "#Rearrange the vector so that all elements conform to the standard “firstname lastname”\n",
        "data = pd.Series(people)\n",
        "pattern = r', '\n",
        "re.sub(r'\\s*(.+),\\s*(.*\\S)\\s*', r'\\2 \\1', data[1])\n",
        "print(data)\n",
        "\n",
        "\n",
        "#Construct a logical vector indicating whether a character has a title\n",
        "hasTitle = data.str.contains('\\.')\n",
        "print(hasTitle)\n",
        "\n",
        "\n",
        "#Construct a logical vector indicating whether a character has a middle/second name.\n",
        "hasMiddle = data.str.contains('\\s[A-Z][a-z]+\\s')\n",
        "print(hasMiddle)\n",
        "\n"
      ]
    },
    {
      "cell_type": "markdown",
      "source": [
        "6. “<.+>” will not just extract the <title> tag but it will extract the entire string. \n",
        "If we write \"re.findall('\\w+>', text)\" it will only extract the title tags."
      ],
      "metadata": {
        "id": "7K5RJhThKPip"
      }
    },
    {
      "cell_type": "markdown",
      "source": [
        "Consider the string “(5-3)^2=5^2-2*5*3+3^2”. We would like to extract the equation in its entirety from the string. To do so we write the regular expression “[^0-9=+*()]+”. Explain why this fails and correct the expression."
      ],
      "metadata": {
        "id": "_NwkpHOALSgc"
      }
    },
    {
      "cell_type": "code",
      "source": [
        "s = '(5-3)^2=5^2-2*5*3+3^2'\n",
        "print(re.findall('([0-9]-[0-9])^[0-9]=[0-9]^[0-9]-[0-9]*[0-9]*[0-9]+[0-9]^[0-9]', s))\n",
        "print(re.findall('^\\([^)]*\\)\\^2-5\\^2-2:5\\*3\\+3\\^2$', s))"
      ],
      "metadata": {
        "id": "51BWK46BWKSP"
      },
      "execution_count": null,
      "outputs": []
    }
  ]
}